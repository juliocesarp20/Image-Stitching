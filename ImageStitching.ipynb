{
  "cells": [
    {
      "cell_type": "markdown",
      "metadata": {
        "id": "QI4egD8TSkjM"
      },
      "source": [
        "# Mosaicos"
      ]
    },
    {
      "cell_type": "markdown",
      "metadata": {
        "id": "4JsETO__pIrv"
      },
      "source": [
        "1. [Introdução](#introducao)\n",
        "2. [Implementação](#implementacao)\n",
        "3. [Mosaicos](#mosaicos)\n",
        "<a name=\"introducao\"></a>"
      ]
    },
    {
      "cell_type": "markdown",
      "metadata": {
        "id": "-v8jGcv7Snww"
      },
      "source": [
        "## Introdução"
      ]
    },
    {
      "cell_type": "markdown",
      "metadata": {
        "id": "DTJNEqSPSoX7"
      },
      "source": [
        "Um mosaico pode ser construído utilizando várias imagens de uma mesma cena tiradas a partir de uma mesma posição, rotacionando a câmera. A colagem das imagens pode ser feita calculando a homografia entre um plano de uma imagem e da imagem de destino. Os pontos iguais entre as duas imagens, que servirão de parâmetros para a homografia, podem ser encontrados por meio do match de keypoints.\n",
        "\n",
        "No trabalho será realizado o mosaico de 3 conjuntos de 3 imagens, usando o match de keypoints SIFT com descritores SIFT e BRIEF.\n",
        "\n",
        "As imagens foram reduzidas para 30% do tamanho original no upload e 15% do tamanho original na execução.\n",
        "\n",
        "<a name=\"implementacao\"></a>"
      ]
    },
    {
      "cell_type": "markdown",
      "metadata": {
        "id": "AJ7Kkf3mbQCw"
      },
      "source": [
        "## Implementação"
      ]
    },
    {
      "cell_type": "markdown",
      "metadata": {
        "id": "chnoJ_PNbSAc"
      },
      "source": [
        "A implementação do mosaico se deu pelas seguintes etapas:\n",
        "Primeiro foram carregados os conjuntos de imagens (É entendido que os conjuntos estão no arquivo sets.zip, que gera uma pasta imgs contendo cada um dos sets), depois para cada um dos conjuntos é realizada a detecção e descrição de keypoints (SIFT+SIFT ou SIFT+BRIEF) entre os primeiros pares de imagem. Em seguida é calculada a homografia da imagem 1 em relação à imagem 2. A imagem é então alterada por uma implementação da transformação perspectiva para que a segunda seja colocada por cima dela.\n",
        "\n",
        "A projeção foi feita calculando primeiro o índice das bordas da imagem transformada (Multiplicando a homografia pelas bordas originais) e os utilizando para criar uma matriz vazia para a nova imagem, então para cada ponto da imagem original, é realizada a transformação dos índices pela homografia e a substituição dos pixels proxímos (Foi utilizado um grid de tamanho 4x4). Por fim é feito o Average Blending ou Feathering, em que as imagens são juntadas e os pixels são suavizados para diminuir a percepção de colagem.\n",
        "\n",
        "Descrevendo em termo das funções: É chamada a função stitch, tendo como entrada o set de imagens e os métodos. Em seguida são recebidos os resultados da homografia (compute_homography) para as duas imagens, dado um descritor. Após isso é utilizada a função warpImage, que calcula as bordas e chama warp, tendo como argumento as bordas, a homografia e uma das imagens. Warp calcula a projeção para os pontos e para cada ponto trocado chama nearest_block, a função que cria um grid NxN em torno do pixel e retorna os pontos substítuidos. Por fim é realizado o blending, (com a função blending), que toma como entrada as duas imagens e a borda calculada em warpImage, então é feito o Average Blending ou o Feathering."
      ]
    },
    {
      "cell_type": "code",
      "execution_count": null,
      "metadata": {
        "colab": {
          "base_uri": "https://localhost:8080/"
        },
        "id": "SgWkd_77QUl-",
        "outputId": "3a4095ca-2fde-4880-a546-59f7ac688fd7"
      },
      "outputs": [
        {
          "name": "stdout",
          "output_type": "stream",
          "text": [
            "Looking in indexes: https://pypi.org/simple, https://us-python.pkg.dev/colab-wheels/public/simple/\n",
            "Requirement already satisfied: opencv-contrib-python==4.4.0.44 in /usr/local/lib/python3.7/dist-packages (4.4.0.44)\n",
            "Requirement already satisfied: numpy>=1.14.5 in /usr/local/lib/python3.7/dist-packages (from opencv-contrib-python==4.4.0.44) (1.21.6)\n"
          ]
        }
      ],
      "source": [
        "#Imports\n",
        "from zipfile import ZipFile\n",
        "import numpy as np\n",
        "!pip install opencv-contrib-python==4.4.0.44\n",
        "import cv2 as cv\n",
        "import matplotlib.pyplot as plt\n",
        "from PIL import Image"
      ]
    },
    {
      "cell_type": "code",
      "execution_count": null,
      "metadata": {
        "id": "Yc0fWZ5GFuNS"
      },
      "outputs": [],
      "source": [
        "def load_images(set=1):\n",
        "  #Unzips sets.zip\n",
        "  with ZipFile('sets.zip', 'r') as zipObj:\n",
        "   zipObj.extractall()\n",
        "  \"\"\"Loads the image sets.\n",
        "  Takes as input the set number.\n",
        "  Returns a numpy array containing the images.\n",
        "\"\"\"\n",
        "  #1 to keep image size, 2 to cut image size by half...\n",
        "  resize_size = 1\n",
        "  img_array = []\n",
        "  #Image sets directory, takes as default imgs/set/\n",
        "  dir = \"imgs/set\"+str(set)+\"/\"\n",
        "  for i in range(3):\n",
        "    img = cv.imread(dir+\"img\"+str(i+1)+\"-set\"+str(set)+\".jpg\")\n",
        "    img = cv.resize(img,(img.shape[1]//resize_size,img.shape[0]//resize_size))\n",
        "    img_array.append(img)\n",
        "    print(dir+\"img\"+str(i+1)+\"-set\"+str(set)+\".jpg loaded...\")\n",
        "  return np.array(img_array)"
      ]
    },
    {
      "cell_type": "code",
      "execution_count": null,
      "metadata": {
        "id": "GrJLuVkZMS96"
      },
      "outputs": [],
      "source": [
        "def sift_keypoint_describe(img1,img2):\n",
        "  \"\"\"Makes the keypoint detecting and describing with SIFT.\n",
        "  Takes as input the 2 images (img1 and img2).\n",
        "  Returns the keypoints list for the first image,the keypoints list for the\n",
        "  second image and the keypoint matches between them.\n",
        "\"\"\"\n",
        "\n",
        "  img1 = cv.cvtColor(img1, cv.COLOR_BGR2GRAY)\n",
        "  img2 = cv.cvtColor(img2, cv.COLOR_BGR2GRAY)\n",
        "  sift = cv.xfeatures2d.SIFT_create()\n",
        "  kp,des = sift.detectAndCompute(img1,None)\n",
        "  kp2,des2 = sift.detectAndCompute(img2,None)\n",
        "\n",
        "  bf = cv.BFMatcher(cv.NORM_L2, crossCheck=True)\n",
        "  matches = bf.match(des,des2)\n",
        "\n",
        "  final_matches = []\n",
        "  for m in matches:\n",
        "      if m.distance:\n",
        "          final_matches.append(m)\n",
        "  return kp,kp2,final_matches"
      ]
    },
    {
      "cell_type": "code",
      "execution_count": null,
      "metadata": {
        "id": "PDdjqZHytY84"
      },
      "outputs": [],
      "source": [
        "def sift_keypoint_brief_describe(img1,img2):\n",
        "  \"\"\"Makes the keypoint detecting with SIFT and describing with BRIEF.\n",
        "  Takes as input the 2 images (img1 and img2).\n",
        "  Returns the keypoints list for the first image, the keypoints list for the\n",
        "  second image and the keypoint matches between them.\n",
        "\"\"\"\n",
        "\n",
        "  img1 = cv.cvtColor(img1, cv.COLOR_BGR2GRAY)\n",
        "  img2 = cv.cvtColor(img2, cv.COLOR_BGR2GRAY)\n",
        "  sift = cv.xfeatures2d.SIFT_create()\n",
        "  brief = cv.xfeatures2d.BriefDescriptorExtractor_create()\n",
        "  kp = sift.detect(img1,None)\n",
        "  kp,des = brief.compute(img1, kp)\n",
        "  kp2 = sift.detect(img2,None)\n",
        "  kp2,des2 = brief.compute(img2, kp2)\n",
        "\n",
        "  bf = cv.BFMatcher(cv.NORM_HAMMING, crossCheck=True)\n",
        "  matches = bf.match(des,des2)\n",
        "\n",
        "  final_matches = []\n",
        "  for m in matches:\n",
        "      if m.distance:\n",
        "          final_matches.append(m)\n",
        "  return kp,kp2,final_matches"
      ]
    },
    {
      "cell_type": "code",
      "execution_count": null,
      "metadata": {
        "id": "7RXXPElBxsgV"
      },
      "outputs": [],
      "source": [
        "def compute_homography(img1,img2,descriptor_method=\"sift\"):\n",
        "  \"\"\"Computes the homography of image 1 to image 2.\n",
        "  Takes as input the source image, the destination image, a descriptor method\n",
        "  (either sift or brief).\n",
        "  Returns the Homography matrix.\n",
        "\"\"\"\n",
        "\n",
        "  if (descriptor_method ==\"sift\"):\n",
        "    kp,kp2,final_matches = sift_keypoint_describe(img1,img2)\n",
        "  elif (descriptor_method==\"brief\"):\n",
        "    kp,kp2,final_matches = sift_keypoint_brief_describe(img1,img2)\n",
        "  else:\n",
        "    raise Exception(\"Descriptor method not found\")\n",
        "  source = np.float32([kp[m.queryIdx].pt for m in final_matches]).reshape(-1,1,2)\n",
        "  destination = np.float32([kp2[m.trainIdx].pt for m in final_matches]).reshape(-1,1,2)\n",
        "  H,_= cv.findHomography(source,destination, cv.RANSAC,5.0)\n",
        "  return H"
      ]
    },
    {
      "cell_type": "code",
      "execution_count": null,
      "metadata": {
        "id": "qGxNs-NoFb68"
      },
      "outputs": [],
      "source": [
        "def blending(result, img, borderI, borderJ,blending_method=\"average\"):\n",
        "  \"\"\"Makes the blending of the resulting image.\n",
        "     Takes as input the warped image, the destination image, the border offsets\n",
        "     and the blending method (either average or feathering).\n",
        "     Returns the blended image.\n",
        "\"\"\"\n",
        "\n",
        "  if(blending_method!=\"average\" and blending_method!=\"feathering\"):\n",
        "      raise Exception(\"Blending method not found\")\n",
        "  h1, w1,_ = result.shape\n",
        "  h2, w2,_ = img.shape\n",
        "  for i in range(h2):\n",
        "      for j in range(w2):\n",
        "          if ((np.array_equal(img[i][j], [0,0,0]) or np.array_equal(result[i+borderI][j+borderJ], [0,0,0]))):\n",
        "              result[i+borderI][j+borderJ] = img[i][j]\n",
        "          else:\n",
        "              if(blending_method==\"average\"):\n",
        "                for k in range(3):\n",
        "                    result[borderI+i][borderJ+j][k]= np.uint8((np.float32(result[i+borderI][j+borderJ][k])\n",
        "                    + np.float32(img[i][j][k]))/(2.0))\n",
        "              elif (blending_method==\"feathering\"):\n",
        "                min_warp = min(min(h1-borderI+i,w1-borderJ+j),min(borderI+i,borderI+j))\n",
        "                min_img = min(min(h2-i,w2-j),min(i,j))\n",
        "                for k in range(3):\n",
        "                    result[borderI+i][borderJ+j][k]= np.uint8((np.float32(result[i+borderI][j+borderJ][k]*min_warp)\n",
        "                    + np.float32(img[i][j][k]*min_img))/(np.float32(min_warp+min_img)))\n",
        "\n",
        "  return result"
      ]
    },
    {
      "cell_type": "code",
      "execution_count": null,
      "metadata": {
        "id": "sIgJdm69nybD"
      },
      "outputs": [],
      "source": [
        "def indexes(idx, window, length):\n",
        "  \"\"\"Auxiliar function to construct the nxn block.\n",
        "  Takes as input the index of the array, the block shape and the array length.\n",
        "  Returns the lower and higher bounds of the corresponding array\n",
        "\"\"\"\n",
        "\n",
        "  lw,hg = idx - window//2, idx + window//2 + window%2\n",
        "  if lw<0:\n",
        "      lw,hg = 0, window\n",
        "  elif hg>length:\n",
        "      lw,hg = -window, None\n",
        "\n",
        "  return lw,hg\n",
        "\n",
        "\n",
        "def nearest_block(arr, idxs, img, window_size=(6,6)):\n",
        "  \"\"\"Constructs a MxN block around the pixel.\n",
        "  Takes as input the array, the pixel corresponding index, the original image\n",
        "  pixel information and the block size\n",
        "  Returns the array after block substitution\n",
        "\"\"\"\n",
        "\n",
        "  row, col,_ = arr.shape\n",
        "  window_row, window_col = window_size\n",
        "\n",
        "  r, c = np.array(idxs)-1\n",
        "\n",
        "  row_low, row_high = indexes(r, window_row, row)\n",
        "  col_low, col_high = indexes(c, window_col, col)\n",
        "  arr[row_low:row_high, col_low:col_high] = img\n",
        "\n",
        "\n",
        "  return arr"
      ]
    },
    {
      "cell_type": "code",
      "execution_count": null,
      "metadata": {
        "id": "Ie9TvzkeOF2Q"
      },
      "outputs": [],
      "source": [
        "def warp(img, H, dsize):\n",
        "  \"\"\"Implementation of the perspective warp.\n",
        "  Takes as input the image, the Homography matrix and the destination shape.\n",
        "  Returns the image warped by the Homography.\n",
        "\"\"\"\n",
        "  ar = np.vstack([np.indices(img.shape), np.ones((1, img.shape))]).reshape(3,-1).T\n",
        "  print(ar)\n",
        "  img=(np.transpose(img, (1, 0, 2)))\n",
        "  R,C = dsize\n",
        "  res = np.zeros((R,C,img.shape[2]),dtype=np.uint8)\n",
        "  for i in range(img.shape[0]):\n",
        "      for j in range(img.shape[1]):\n",
        "          pos = H@(np.array([i,j,1]))\n",
        "          i2,j2,_ = np.uint32(pos / pos[2])\n",
        "          res[i2,j2] = img[i,j]\n",
        "          if(img[i,j].any()):\n",
        "            res = nearest_block(res,[i2,j2],img[i,j])\n",
        "  return np.transpose(res, (1, 0, 2))"
      ]
    },
    {
      "cell_type": "code",
      "execution_count": null,
      "metadata": {
        "id": "oS0PgMevVoRF"
      },
      "outputs": [],
      "source": [
        "def bound_coordinates(sh1,sh2, H):\n",
        "  \"\"\"Gets the border bounds.\n",
        "  Takes as input the image shapes and the Homography matrix.\n",
        "  Returns the correspondent rectangle bounds.\n",
        "\"\"\"\n",
        "\n",
        "  h,w,_ = sh1\n",
        "  h2,w2,_ = sh2\n",
        "  pt_img1 = np.float32([[0,0],[0,h],[w,h],[w,0]]).reshape(-1,1,2)\n",
        "  pt_img2 = H@np.float32([[0,0,w2,w2],[0,h2,h2,0],[1,1,1,1]])\n",
        "  pt_img2 = pt_img2/pt_img2[2]\n",
        "  pt_img2 = pt_img2[0:2].T\n",
        "  pt_img2 = np.array([[[x,y]] for [x, y] in pt_img2])\n",
        "  final_points = np.concatenate((pt_img1, pt_img2), axis=0)\n",
        "  xl, yl = final_points.min(axis=0).ravel()\n",
        "  xm, ym = final_points.max(axis=0).ravel()\n",
        "  return (int(xl), int(yl), int(xm), int(ym))\n",
        "\n",
        "def warpImage(img1, img2, H,blending_method):\n",
        "  \"\"\"Calls for a image warp and image blending.\n",
        "  Takes as input the source image, the destination image, the Homography matrix\n",
        "  and the blending method (Either average or feathering).\n",
        "  Returns the stitched images after blending.\n",
        "\"\"\"\n",
        "  xl, yl, xm, ym = bound_coordinates(img1.shape, img2.shape, H)\n",
        "  w = ym-yl\n",
        "  h = xm-xl\n",
        "  H = np.array([[1,0,-xl],[0,1,-yl],[0,0,1]])@H\n",
        "  result = warp2(img2, H,(h,w))\n",
        "  result = blending(result,img1,-yl,-xl,blending_method=blending_method)\n",
        "  return result"
      ]
    },
    {
      "cell_type": "code",
      "execution_count": null,
      "metadata": {
        "id": "cwuLdDOF0bRm"
      },
      "outputs": [],
      "source": [
        "def stitch(img1,img2,img3,descriptor_method,blending_method):\n",
        "  \"\"\"Calls for the homography calculation and image stitching for the image set.\n",
        "  Takes as input the ordered image set (img1,img2 and img3), the descriptor method (Either sift or\n",
        "  brief) and the blending method (Either average or feathering).\n",
        "  Returns the partial result and the final image.\n",
        "\"\"\"\n",
        "\n",
        "  print(\"Keypoint Detection: sift, Descriptor: \"+descriptor_method+\", Blending: \"+blending_method)\n",
        "  print(\"Image 1 and 2 homography started...\")\n",
        "  H = compute_homography(img1,img2,descriptor_method=descriptor_method)\n",
        "  print(\"Image 1 and 2 homography done...\")\n",
        "  print(\"Image 1 and 2 stitch started...\")\n",
        "  im_dst_partial = warpImage(img2,img1, H,blending_method)\n",
        "  print(\"Image 1 and 2 stitch done...\")\n",
        "  print(\"Image 3 homography started...\")\n",
        "  H2 = compute_homography(img3,im_dst_partial,descriptor_method=descriptor_method)\n",
        "  print(\"Image 3 homography done...\")\n",
        "  print(\"Image 3 stitch started...\")\n",
        "  im_dst_final= warpImage(im_dst_partial,img3, H2,blending_method)\n",
        "  print(\"Image 3 stitch done.\")\n",
        "  return im_dst_partial,im_dst_final"
      ]
    },
    {
      "cell_type": "code",
      "execution_count": null,
      "metadata": {
        "id": "LREEGaGI2PM9"
      },
      "outputs": [],
      "source": [
        "def stitch2(img1,img2,img3,descriptor_method,blending_method):\n",
        "  \"\"\"Calls for the homography calculation and image stitching for the image set.\n",
        "  Takes as input the ordered image set (img1,img2 and img3), the descriptor method (Either sift or\n",
        "  brief) and the blending method (Either average or feathering).\n",
        "  Returns the partial result and the final image.\n",
        "\"\"\"\n",
        "\n",
        "  print(\"Keypoint Detection: sift, Descriptor: \"+descriptor_method+\", Blending: \"+blending_method)\n",
        "  print(\"Image 1 and 2 homography started...\")\n",
        "  H = compute_homography(img1,img2,descriptor_method=descriptor_method)\n",
        "\n",
        "  print(\"Image 1 and 2 homography done...\")\n",
        "  print(\"Image 1 and 2 stitch started...\")\n",
        "  #im_dst_partial = warpImage(img2,img1, H,blending_method)\n",
        "  #return im_dst_partial"
      ]
    },
    {
      "cell_type": "code",
      "execution_count": null,
      "metadata": {
        "colab": {
          "base_uri": "https://localhost:8080/"
        },
        "id": "JVCU4tiE6iHN",
        "outputId": "22f6da88-041e-46e3-f3fe-8ae193deee12"
      },
      "outputs": [
        {
          "name": "stdout",
          "output_type": "stream",
          "text": [
            "imgs/set1/img1-set1.jpg loaded...\n",
            "imgs/set1/img2-set1.jpg loaded...\n",
            "imgs/set1/img3-set1.jpg loaded...\n",
            "imgs/set2/img1-set2.jpg loaded...\n",
            "imgs/set2/img2-set2.jpg loaded...\n",
            "imgs/set2/img3-set2.jpg loaded...\n",
            "imgs/set3/img1-set3.jpg loaded...\n",
            "imgs/set3/img2-set3.jpg loaded...\n",
            "imgs/set3/img3-set3.jpg loaded...\n"
          ]
        }
      ],
      "source": [
        "imgs_set1 = load_images(set=1)\n",
        "imgs_set2 = load_images(set=2)\n",
        "imgs_set3 = load_images(set=3)"
      ]
    },
    {
      "cell_type": "code",
      "execution_count": null,
      "metadata": {
        "id": "N4lDgW-r2cAS"
      },
      "outputs": [],
      "source": [
        "def warp2(img, H, dsize):\n",
        "  \"\"\"Implementation of the perspective warp.\n",
        "  Takes as input the image, the Homography matrix and the destination shape.\n",
        "  Returns the image warped by the Homography.\n",
        "\"\"\"\n",
        "  img=(np.transpose(img, (1, 0, 2)))\n",
        "  R,C = dsize\n",
        "  res = np.zeros((R,C,img.shape[2]),dtype=np.uint8)\n",
        "  V =[sum(H[i,:]) for i in range(3)]\n",
        "  ar = (m*V[0])\n",
        "  ao = (n*V[1])\n",
        "  ar = ar.reshape((500,1))\n",
        "  ao = ao.reshape((500))\n",
        "  idxs = ((ar+ao)/V[2])\n",
        "  ms = img[idxs[0],idxs[1]]\n",
        "  for i in range(img.shape[0]):\n",
        "      for j in range(img.shape[1]):\n",
        "          pos = np.multiply([i,j,1],V)\n",
        "          i2,j2,_ = np.uint32(pos / pos[2])\n",
        "          res[i2,j2] = img[i,j]\n",
        "          if(img[i,j].any()):\n",
        "            res = nearest_block(res,[i2,j2],img[i,j])\n",
        "  return np.transpose(res, (1, 0, 2))"
      ]
    },
    {
      "cell_type": "code",
      "execution_count": null,
      "metadata": {
        "colab": {
          "base_uri": "https://localhost:8080/"
        },
        "id": "_rB6q4Y68t2r",
        "outputId": "08c695bd-ba9a-477a-fd61-03aa7eda122a"
      },
      "outputs": [
        {
          "name": "stdout",
          "output_type": "stream",
          "text": [
            "[[   0    0    1 ... 1131 1132 1133]\n",
            " [   0    1    2 ... 1131 1132 1133]\n",
            " [   0    1    2 ... 1132 1133 1134]\n",
            " ...\n",
            " [ 339  340  341 ... 1470 1471 1472]\n",
            " [ 339  340  341 ... 1471 1472 1473]\n",
            " [ 340  341  342 ... 1471 1472 1473]]\n"
          ]
        },
        {
          "data": {
            "text/plain": [
              "(1210, 3)"
            ]
          },
          "execution_count": 303,
          "metadata": {},
          "output_type": "execute_result"
        }
      ],
      "source": [
        "img = imgs_set1[0]\n",
        "a = img.shape[0]\n",
        "b = img.shape[1]\n",
        "m = np.arange(a)\n",
        "n = np.arange(b)\n",
        "o = np.ones(3)\n",
        "\n",
        "i = sum([1,2,3])\n",
        "j = sum([4,5,6])\n",
        "k = sum([7,8,1])\n",
        "\n",
        "ar = (m*i)\n",
        "ao = (n*j)\n",
        "ar = ar.reshape((a,1))\n",
        "ao = ao.reshape((b))\n",
        "idxs = ((ar+ao)/k)\n",
        "idxs = np.uint32(idxs)\n",
        "print(idxs)\n",
        "idxs[0]\n",
        "img[0].shape"
      ]
    },
    {
      "cell_type": "code",
      "execution_count": null,
      "metadata": {
        "colab": {
          "base_uri": "https://localhost:8080/"
        },
        "id": "b-HzdQkjIo__",
        "outputId": "1a753808-30ee-4cdd-97cf-6bf703e477ec"
      },
      "outputs": [
        {
          "name": "stdout",
          "output_type": "stream",
          "text": [
            "[6, 15, 24]\n"
          ]
        }
      ],
      "source": [
        "H = np.array([[1,2,3],[4,5,6],[7,8,9]])\n",
        "\n",
        "print(V)"
      ]
    },
    {
      "cell_type": "code",
      "execution_count": null,
      "metadata": {
        "colab": {
          "base_uri": "https://localhost:8080/"
        },
        "id": "t5GGaZvh2N9Q",
        "outputId": "27c2624b-7ae0-444c-90cc-4968ebab76c3"
      },
      "outputs": [
        {
          "name": "stdout",
          "output_type": "stream",
          "text": [
            "Keypoint Detection: sift, Descriptor: sift, Blending: average\n",
            "Image 1 and 2 homography started...\n",
            "[2.6088639562576468, 1.6755955308586379, -1621.3200966358963]\n",
            "Image 1 and 2 homography done...\n",
            "Image 1 and 2 stitch started...\n"
          ]
        }
      ],
      "source": [
        "im_dst_partial = stitch2(imgs_set1[0],imgs_set1[1],imgs_set1[2],\"sift\",\"average\")"
      ]
    },
    {
      "cell_type": "code",
      "execution_count": null,
      "metadata": {
        "colab": {
          "base_uri": "https://localhost:8080/",
          "height": 286
        },
        "id": "2yJyrdni2aby",
        "outputId": "d4edc2d6-f19c-4352-f7b0-d13623211a10"
      },
      "outputs": [
        {
          "data": {
            "text/plain": [
              "<matplotlib.image.AxesImage at 0x7fb2c84e5790>"
            ]
          },
          "execution_count": 121,
          "metadata": {},
          "output_type": "execute_result"
        },
        {
          "data": {
            "image/png": "[encoded data removed]",
            "text/plain": [
              "<Figure size 432x288 with 1 Axes>"
            ]
          },
          "metadata": {
            "needs_background": "light"
          },
          "output_type": "display_data"
        }
      ],
      "source": [
        "plt.imshow(cv.cvtColor(im_dst_partial, cv.COLOR_BGRA2RGB))"
      ]
    },
    {
      "cell_type": "markdown",
      "metadata": {
        "id": "5lLqdIHypuJf"
      },
      "source": [
        "<a name=\"mosaicos\"></a>"
      ]
    },
    {
      "cell_type": "markdown",
      "metadata": {
        "id": "eFjx75ypFA84"
      },
      "source": [
        "## Mosaicos"
      ]
    },
    {
      "cell_type": "markdown",
      "metadata": {
        "id": "fldWkne3Env6"
      },
      "source": [
        "### SIFT e Average Blending"
      ]
    },
    {
      "cell_type": "markdown",
      "metadata": {
        "id": "UdDJCi-iEplp"
      },
      "source": [
        "### Set 1"
      ]
    },
    {
      "cell_type": "code",
      "execution_count": null,
      "metadata": {
        "id": "THaw2ZOpEq-N"
      },
      "outputs": [],
      "source": [
        "im_dst_partial,im_dst_final = stitch(imgs_set1[0],imgs_set1[1],imgs_set1[2],\"sift\",\"average\")"
      ]
    },
    {
      "cell_type": "code",
      "execution_count": null,
      "metadata": {
        "id": "80XaVv_hErkU"
      },
      "outputs": [],
      "source": [
        "fig = plt.figure(figsize=(8, 8))\n",
        "plt.imshow(cv.cvtColor(im_dst_partial, cv.COLOR_BGRA2RGB))"
      ]
    },
    {
      "cell_type": "code",
      "execution_count": null,
      "metadata": {
        "id": "aew79v-UEsGQ"
      },
      "outputs": [],
      "source": [
        "fig = plt.figure(figsize=(8, 8))\n",
        "plt.imshow(cv.cvtColor(im_dst_final, cv.COLOR_BGRA2RGB))"
      ]
    },
    {
      "cell_type": "code",
      "execution_count": null,
      "metadata": {
        "id": "Y2fmKQdDruJh"
      },
      "outputs": [],
      "source": [
        "download = Image.fromarray(cv.cvtColor(np.array(im_dst_final), cv.COLOR_BGR2RGB))\n",
        "download.save(\"set1-avg-sift.jpg\")"
      ]
    },
    {
      "cell_type": "markdown",
      "metadata": {
        "id": "aixqKZI8-cxF"
      },
      "source": [
        "<img src=\"https://i.imgur.com/WMAaWlC.jpg\">"
      ]
    },
    {
      "cell_type": "markdown",
      "metadata": {
        "id": "okF4WqHvEtkM"
      },
      "source": [
        "### Set 2"
      ]
    },
    {
      "cell_type": "code",
      "execution_count": null,
      "metadata": {
        "id": "0HwoufKbEvQH"
      },
      "outputs": [],
      "source": [
        "#Stitch second set\n",
        "im_dst_set2_partial,im_dst_set2_final = stitch(imgs_set2[0],imgs_set2[1],imgs_set2[2],\"sift\",\"average\")"
      ]
    },
    {
      "cell_type": "code",
      "execution_count": null,
      "metadata": {
        "id": "BgvO-8oEEvgM"
      },
      "outputs": [],
      "source": [
        "fig = plt.figure(figsize=(8, 8))\n",
        "plt.imshow(cv.cvtColor(im_dst_set2_partial, cv.COLOR_BGRA2RGB))"
      ]
    },
    {
      "cell_type": "code",
      "execution_count": null,
      "metadata": {
        "id": "PYrT1IyREwf2"
      },
      "outputs": [],
      "source": [
        "fig = plt.figure(figsize=(8, 8))\n",
        "plt.imshow(cv.cvtColor(im_dst_set2_final, cv.COLOR_BGRA2RGB))"
      ]
    },
    {
      "cell_type": "code",
      "execution_count": null,
      "metadata": {
        "id": "PTGK70y4sH8Q"
      },
      "outputs": [],
      "source": [
        "download = Image.fromarray(cv.cvtColor(np.array(im_dst_set2_final), cv.COLOR_BGR2RGB))\n",
        "download.save(\"set2-avg-sift.jpg\")"
      ]
    },
    {
      "cell_type": "markdown",
      "metadata": {
        "id": "-IW74_TW_X0n"
      },
      "source": [
        "<img src=\"https://i.imgur.com/uddXJ8G.jpg\">"
      ]
    },
    {
      "cell_type": "markdown",
      "metadata": {
        "id": "stggCUSzmfCZ"
      },
      "source": [
        "### Set 3"
      ]
    },
    {
      "cell_type": "code",
      "execution_count": null,
      "metadata": {
        "id": "sEGdi7Z-mfCZ"
      },
      "outputs": [],
      "source": [
        "#Stitch second set\n",
        "im_dst_set3_partial,im_dst_set3_final = stitch(imgs_set3[0],imgs_set3[1],imgs_set3[2],\"sift\",\"average\")"
      ]
    },
    {
      "cell_type": "code",
      "execution_count": null,
      "metadata": {
        "id": "hoXWPKk6mfCa"
      },
      "outputs": [],
      "source": [
        "fig = plt.figure(figsize=(8, 8))\n",
        "plt.imshow(cv.cvtColor(im_dst_set3_partial, cv.COLOR_BGRA2RGB))"
      ]
    },
    {
      "cell_type": "code",
      "execution_count": null,
      "metadata": {
        "id": "6ytPsbQEmfCa"
      },
      "outputs": [],
      "source": [
        "fig = plt.figure(figsize=(8, 8))\n",
        "plt.imshow(cv.cvtColor(im_dst_set3_final, cv.COLOR_BGRA2RGB))"
      ]
    },
    {
      "cell_type": "code",
      "execution_count": null,
      "metadata": {
        "id": "Su68AF_bsMts"
      },
      "outputs": [],
      "source": [
        "download = Image.fromarray(cv.cvtColor(np.array(im_dst_set3_final), cv.COLOR_BGR2RGB))\n",
        "download.save(\"set3-avg-sift.jpg\")"
      ]
    },
    {
      "cell_type": "markdown",
      "metadata": {
        "id": "0cojMtmT_n0a"
      },
      "source": [
        "<img src=\"https://i.imgur.com/wImUEIg.jpg\">"
      ]
    },
    {
      "cell_type": "markdown",
      "metadata": {
        "id": "LgomWt4OEzAg"
      },
      "source": [
        "## SIFT e Feathering"
      ]
    },
    {
      "cell_type": "markdown",
      "metadata": {
        "id": "a5Ljdo87E5D4"
      },
      "source": [
        "### Set 1"
      ]
    },
    {
      "cell_type": "code",
      "execution_count": null,
      "metadata": {
        "id": "y9jmcF5qE1lD"
      },
      "outputs": [],
      "source": [
        "im_dst_partial,im_dst_final = stitch(imgs_set1[0],imgs_set1[1],imgs_set1[2],\"sift\",\"feathering\")"
      ]
    },
    {
      "cell_type": "code",
      "execution_count": null,
      "metadata": {
        "id": "yVyMIgK5E4vf"
      },
      "outputs": [],
      "source": [
        "fig = plt.figure(figsize=(8, 8))\n",
        "plt.imshow(cv.cvtColor(im_dst_partial, cv.COLOR_BGRA2RGB))"
      ]
    },
    {
      "cell_type": "code",
      "execution_count": null,
      "metadata": {
        "id": "DDu828MYE6RE"
      },
      "outputs": [],
      "source": [
        "fig = plt.figure(figsize=(8, 8))\n",
        "plt.imshow(cv.cvtColor(im_dst_final, cv.COLOR_BGRA2RGB))"
      ]
    },
    {
      "cell_type": "code",
      "execution_count": null,
      "metadata": {
        "id": "kaDCImdnsOuS"
      },
      "outputs": [],
      "source": [
        "download = Image.fromarray(cv.cvtColor(np.array(im_dst_final), cv.COLOR_BGR2RGB))\n",
        "download.save(\"set1-feathering-sift.jpg\")"
      ]
    },
    {
      "cell_type": "markdown",
      "metadata": {
        "id": "e-rMhrYO_xyA"
      },
      "source": [
        "<img src=\"https://i.imgur.com/ooa7Bwm.jpg\">"
      ]
    },
    {
      "cell_type": "markdown",
      "metadata": {
        "id": "WcU_JTEZE6iQ"
      },
      "source": [
        "### Set 2"
      ]
    },
    {
      "cell_type": "code",
      "execution_count": null,
      "metadata": {
        "id": "OV4gnKfVE7wf"
      },
      "outputs": [],
      "source": [
        "#Stitch second set\n",
        "im_dst_set2_partial,im_dst_set2_final = stitch(imgs_set2[0],imgs_set2[1],imgs_set2[2],\"sift\",\"feathering\")"
      ]
    },
    {
      "cell_type": "code",
      "execution_count": null,
      "metadata": {
        "id": "Qcwhe1FhE8fn"
      },
      "outputs": [],
      "source": [
        "fig = plt.figure(figsize=(8, 8))\n",
        "plt.imshow(cv.cvtColor(im_dst_set2_partial, cv.COLOR_BGRA2RGB))"
      ]
    },
    {
      "cell_type": "code",
      "execution_count": null,
      "metadata": {
        "id": "L1ABT0JEE9H9"
      },
      "outputs": [],
      "source": [
        "fig = plt.figure(figsize=(8, 8))\n",
        "plt.imshow(cv.cvtColor(im_dst_set2_final, cv.COLOR_BGRA2RGB))"
      ]
    },
    {
      "cell_type": "code",
      "execution_count": null,
      "metadata": {
        "id": "BJGC-0uasSyw"
      },
      "outputs": [],
      "source": [
        "download = Image.fromarray(cv.cvtColor(np.array(im_dst_set2_final), cv.COLOR_BGR2RGB))\n",
        "download.save(\"set2-feathering-sift.jpg\")"
      ]
    },
    {
      "cell_type": "markdown",
      "metadata": {
        "id": "xHUpn2LF_552"
      },
      "source": [
        "<img src=\"https://i.imgur.com/LiuEJcD.jpg\">"
      ]
    },
    {
      "cell_type": "markdown",
      "metadata": {
        "id": "2S_czOBhmsuU"
      },
      "source": [
        "### Set 3"
      ]
    },
    {
      "cell_type": "code",
      "execution_count": null,
      "metadata": {
        "id": "1Iix0ufAmntp"
      },
      "outputs": [],
      "source": [
        "#Stitch second set\n",
        "im_dst_set3_partial,im_dst_set3_final = stitch(imgs_set3[0],imgs_set3[1],imgs_set3[2],\"sift\",\"feathering\")"
      ]
    },
    {
      "cell_type": "code",
      "execution_count": null,
      "metadata": {
        "id": "XSs-wlJJmntq"
      },
      "outputs": [],
      "source": [
        "fig = plt.figure(figsize=(8, 8))\n",
        "plt.imshow(cv.cvtColor(im_dst_set3_partial, cv.COLOR_BGRA2RGB))"
      ]
    },
    {
      "cell_type": "code",
      "execution_count": null,
      "metadata": {
        "id": "nMFBSPoomntr"
      },
      "outputs": [],
      "source": [
        "fig = plt.figure(figsize=(8, 8))\n",
        "plt.imshow(cv.cvtColor(im_dst_set3_final, cv.COLOR_BGRA2RGB))"
      ]
    },
    {
      "cell_type": "code",
      "execution_count": null,
      "metadata": {
        "id": "XaLv3z5ysSAL"
      },
      "outputs": [],
      "source": [
        "download = Image.fromarray(cv.cvtColor(np.array(im_dst_set3_final), cv.COLOR_BGR2RGB))\n",
        "download.save(\"set3-feathering-sift.jpg\")"
      ]
    },
    {
      "cell_type": "markdown",
      "metadata": {
        "id": "085IQbKi_-AG"
      },
      "source": [
        "<img src=\"https://i.imgur.com/BYwAzK3.jpg\">"
      ]
    },
    {
      "cell_type": "markdown",
      "metadata": {
        "id": "kIrkKiZaENOV"
      },
      "source": [
        "## BRIEF e Average Blending"
      ]
    },
    {
      "cell_type": "markdown",
      "metadata": {
        "id": "Wl3M9lTlEdIy"
      },
      "source": [
        "### Set 1"
      ]
    },
    {
      "cell_type": "code",
      "execution_count": null,
      "metadata": {
        "id": "p4Mp8c3zEOM-"
      },
      "outputs": [],
      "source": [
        "im_dst_partial,im_dst_final = stitch(imgs_set1[0],imgs_set1[1],imgs_set1[2],\"brief\",\"average\")"
      ]
    },
    {
      "cell_type": "code",
      "execution_count": null,
      "metadata": {
        "id": "0AKLqsE6EW46"
      },
      "outputs": [],
      "source": [
        "fig = plt.figure(figsize=(8, 8))\n",
        "plt.imshow(cv.cvtColor(im_dst_partial, cv.COLOR_BGRA2RGB))"
      ]
    },
    {
      "cell_type": "code",
      "execution_count": null,
      "metadata": {
        "id": "Lyqdy_vUEXKR"
      },
      "outputs": [],
      "source": [
        "fig = plt.figure(figsize=(8, 8))\n",
        "plt.imshow(cv.cvtColor(im_dst_final, cv.COLOR_BGRA2RGB))"
      ]
    },
    {
      "cell_type": "code",
      "execution_count": null,
      "metadata": {
        "id": "zmOEDvBGsYdX"
      },
      "outputs": [],
      "source": [
        "download = Image.fromarray(cv.cvtColor(np.array(im_dst_final), cv.COLOR_BGR2RGB))\n",
        "download.save(\"set1-avg-brief.jpg\")"
      ]
    },
    {
      "cell_type": "markdown",
      "metadata": {
        "id": "eOCQpghrAMM-"
      },
      "source": [
        "<img src=\"https://i.imgur.com/lxpBeFg.jpg\">"
      ]
    },
    {
      "cell_type": "markdown",
      "metadata": {
        "id": "QKQllfATEezm"
      },
      "source": [
        "### Set 2"
      ]
    },
    {
      "cell_type": "code",
      "execution_count": null,
      "metadata": {
        "id": "KPbJ_VqOEhZj"
      },
      "outputs": [],
      "source": [
        "#Stitch second set\n",
        "im_dst_set2_partial,im_dst_set2_final = stitch(imgs_set2[0],imgs_set2[1],imgs_set2[2],\"brief\",\"average\")"
      ]
    },
    {
      "cell_type": "code",
      "execution_count": null,
      "metadata": {
        "id": "IvQ-DEqvEkOU"
      },
      "outputs": [],
      "source": [
        "fig = plt.figure(figsize=(8, 8))\n",
        "plt.imshow(cv.cvtColor(im_dst_set2_partial, cv.COLOR_BGRA2RGB))"
      ]
    },
    {
      "cell_type": "code",
      "execution_count": null,
      "metadata": {
        "id": "wckOPlMGEmL_"
      },
      "outputs": [],
      "source": [
        "fig = plt.figure(figsize=(8, 8))\n",
        "plt.imshow(cv.cvtColor(im_dst_set2_final, cv.COLOR_BGRA2RGB))"
      ]
    },
    {
      "cell_type": "code",
      "execution_count": null,
      "metadata": {
        "id": "blFHffk9sc14"
      },
      "outputs": [],
      "source": [
        "download = Image.fromarray(cv.cvtColor(np.array(im_dst_set2_final), cv.COLOR_BGR2RGB))\n",
        "download.save(\"set2-avg-brief.jpg\")"
      ]
    },
    {
      "cell_type": "markdown",
      "metadata": {
        "id": "g7P9CWGXAMmD"
      },
      "source": [
        "<img src=\"https://i.imgur.com/vjk2Feg.jpg\">"
      ]
    },
    {
      "cell_type": "markdown",
      "metadata": {
        "id": "26QJHoNMmux3"
      },
      "source": [
        "### Set 3"
      ]
    },
    {
      "cell_type": "code",
      "execution_count": null,
      "metadata": {
        "id": "YXM241tKmx_I"
      },
      "outputs": [],
      "source": [
        "#Stitch second set\n",
        "im_dst_set3_partial,im_dst_set3_final = stitch(imgs_set3[0],imgs_set3[1],imgs_set3[2],\"brief\",\"average\")"
      ]
    },
    {
      "cell_type": "code",
      "execution_count": null,
      "metadata": {
        "id": "OZXsZOWymx_J"
      },
      "outputs": [],
      "source": [
        "fig = plt.figure(figsize=(8, 8))\n",
        "plt.imshow(cv.cvtColor(im_dst_set3_partial, cv.COLOR_BGRA2RGB))"
      ]
    },
    {
      "cell_type": "code",
      "execution_count": null,
      "metadata": {
        "id": "P-8kGrEamx_K"
      },
      "outputs": [],
      "source": [
        "fig = plt.figure(figsize=(8, 8))\n",
        "plt.imshow(cv.cvtColor(im_dst_set3_final, cv.COLOR_BGRA2RGB))"
      ]
    },
    {
      "cell_type": "code",
      "execution_count": null,
      "metadata": {
        "id": "Q0ijA-9msfCe"
      },
      "outputs": [],
      "source": [
        "download = Image.fromarray(cv.cvtColor(np.array(im_dst_set3_final), cv.COLOR_BGR2RGB))\n",
        "download.save(\"set3-avg-brief.jpg\")"
      ]
    },
    {
      "cell_type": "markdown",
      "metadata": {
        "id": "N_y3lPr2ANb8"
      },
      "source": [
        "<img src=\"https://i.imgur.com/C3IXbBT.jpg\">"
      ]
    },
    {
      "cell_type": "markdown",
      "metadata": {
        "id": "Hxxt_Q-4EG0D"
      },
      "source": [
        "## BRIEF e Feathering"
      ]
    },
    {
      "cell_type": "markdown",
      "metadata": {
        "id": "kZz-q_zom395"
      },
      "source": [
        "### Set 1"
      ]
    },
    {
      "cell_type": "code",
      "execution_count": null,
      "metadata": {
        "id": "EFJ_9o3Zx75q"
      },
      "outputs": [],
      "source": [
        "im_dst_partial,im_dst_final = stitch(imgs_set1[0],imgs_set1[1],imgs_set1[2],\"brief\",\"feathering\")"
      ]
    },
    {
      "cell_type": "code",
      "execution_count": null,
      "metadata": {
        "id": "NYfDzrfx3qYp"
      },
      "outputs": [],
      "source": [
        "fig = plt.figure(figsize=(8, 8))\n",
        "plt.imshow(cv.cvtColor(im_dst_partial, cv.COLOR_BGRA2RGB))"
      ]
    },
    {
      "cell_type": "code",
      "execution_count": null,
      "metadata": {
        "id": "Qz_XzmTip5lS"
      },
      "outputs": [],
      "source": [
        "fig = plt.figure(figsize=(8, 8))\n",
        "plt.imshow(cv.cvtColor(im_dst_final, cv.COLOR_BGRA2RGB))"
      ]
    },
    {
      "cell_type": "code",
      "execution_count": null,
      "metadata": {
        "id": "f4escmYysgKo"
      },
      "outputs": [],
      "source": [
        "download = Image.fromarray(cv.cvtColor(np.array(im_dst_final), cv.COLOR_BGR2RGB))\n",
        "download.save(\"set1-feathering-brief.jpg\")"
      ]
    },
    {
      "cell_type": "markdown",
      "metadata": {
        "id": "dazflAWGAOS4"
      },
      "source": [
        "<img src=\"https://i.imgur.com/kUhKooD.jpg\">"
      ]
    },
    {
      "cell_type": "markdown",
      "metadata": {
        "id": "ZEQzRESom5P3"
      },
      "source": [
        "### Set 2"
      ]
    },
    {
      "cell_type": "code",
      "execution_count": null,
      "metadata": {
        "id": "Rc1THWfK2LVf"
      },
      "outputs": [],
      "source": [
        "#Stitch second set\n",
        "im_dst_set2_partial,im_dst_set2_final = stitch(imgs_set2[0],imgs_set2[1],imgs_set2[2],\"brief\",\"feathering\")"
      ]
    },
    {
      "cell_type": "code",
      "execution_count": null,
      "metadata": {
        "id": "4hrE7pZ033dS"
      },
      "outputs": [],
      "source": [
        "fig = plt.figure(figsize=(8, 8))\n",
        "plt.imshow(cv.cvtColor(im_dst_set2_partial, cv.COLOR_BGRA2RGB))"
      ]
    },
    {
      "cell_type": "code",
      "execution_count": null,
      "metadata": {
        "id": "jqqNntGy2Msq"
      },
      "outputs": [],
      "source": [
        "fig = plt.figure(figsize=(8, 8))\n",
        "plt.imshow(cv.cvtColor(im_dst_set2_final, cv.COLOR_BGRA2RGB))"
      ]
    },
    {
      "cell_type": "code",
      "execution_count": null,
      "metadata": {
        "id": "zKtGG19TsiZY"
      },
      "outputs": [],
      "source": [
        "download = Image.fromarray(cv.cvtColor(np.array(im_dst_set2_final), cv.COLOR_BGR2RGB))\n",
        "download.save(\"set2-feathering-brief.jpg\")"
      ]
    },
    {
      "cell_type": "markdown",
      "metadata": {
        "id": "v7A1MOBKAO6j"
      },
      "source": [
        "<img src=\"https://i.imgur.com/XZEioAY.jpg\">"
      ]
    },
    {
      "cell_type": "markdown",
      "metadata": {
        "id": "wC2yaGhfm6aX"
      },
      "source": [
        "### Set 3"
      ]
    },
    {
      "cell_type": "code",
      "execution_count": null,
      "metadata": {
        "id": "T8f093Hzm73U"
      },
      "outputs": [],
      "source": [
        "#Stitch second set\n",
        "im_dst_set3_partial,im_dst_set3_final = stitch(imgs_set3[0],imgs_set3[1],imgs_set3[2],\"brief\",\"feathering\")"
      ]
    },
    {
      "cell_type": "code",
      "execution_count": null,
      "metadata": {
        "id": "BAbCMayum73V"
      },
      "outputs": [],
      "source": [
        "fig = plt.figure(figsize=(8, 8))\n",
        "plt.imshow(cv.cvtColor(im_dst_set3_partial, cv.COLOR_BGRA2RGB))"
      ]
    },
    {
      "cell_type": "code",
      "execution_count": null,
      "metadata": {
        "id": "U4WVeYZ6m73W"
      },
      "outputs": [],
      "source": [
        "fig = plt.figure(figsize=(8, 8))\n",
        "plt.imshow(cv.cvtColor(im_dst_set3_final, cv.COLOR_BGRA2RGB))"
      ]
    },
    {
      "cell_type": "code",
      "execution_count": null,
      "metadata": {
        "id": "Ga_uvjTnskI_"
      },
      "outputs": [],
      "source": [
        "download = Image.fromarray(cv.cvtColor(np.array(im_dst_set3_final), cv.COLOR_BGR2RGB))\n",
        "download.save(\"set3-feathering-brief.jpg\")"
      ]
    },
    {
      "cell_type": "markdown",
      "metadata": {
        "id": "vjbgLsNlAPay"
      },
      "source": [
        "<img src=\"https://i.imgur.com/mqDnaAC.jpg\">"
      ]
    },
    {
      "cell_type": "markdown",
      "metadata": {
        "id": "tFN-bC4ZpoWr"
      },
      "source": [
        "<a name=\"resultados\"></a>"
      ]
    }
  ],
  "metadata": {
    "colab": {
      "provenance": []
    },
    "kernelspec": {
      "display_name": "Python 3",
      "name": "python3"
    },
    "language_info": {
      "name": "python"
    }
  },
  "nbformat": 4,
  "nbformat_minor": 0
}
